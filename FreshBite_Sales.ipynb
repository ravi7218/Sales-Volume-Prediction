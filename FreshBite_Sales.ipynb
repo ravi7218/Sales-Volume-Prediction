{
 "cells": [
  {
   "cell_type": "markdown",
   "metadata": {},
   "source": [
    "# FreshBite Sales Prediction"
   ]
  },
  {
   "cell_type": "markdown",
   "metadata": {},
   "source": [
    "### Data Cleaning"
   ]
  },
  {
   "cell_type": "code",
   "execution_count": 136,
   "metadata": {},
   "outputs": [
    {
     "data": {
      "text/html": [
       "<div>\n",
       "<style scoped>\n",
       "    .dataframe tbody tr th:only-of-type {\n",
       "        vertical-align: middle;\n",
       "    }\n",
       "\n",
       "    .dataframe tbody tr th {\n",
       "        vertical-align: top;\n",
       "    }\n",
       "\n",
       "    .dataframe thead th {\n",
       "        text-align: right;\n",
       "    }\n",
       "</style>\n",
       "<table border=\"1\" class=\"dataframe\">\n",
       "  <thead>\n",
       "    <tr style=\"text-align: right;\">\n",
       "      <th></th>\n",
       "      <th>Unnamed: 0</th>\n",
       "      <th>Date</th>\n",
       "      <th>Customer ID</th>\n",
       "      <th>Sales Volume</th>\n",
       "      <th>Sales Revenue</th>\n",
       "      <th>Pricing Tier</th>\n",
       "      <th>Region</th>\n",
       "      <th>Season</th>\n",
       "      <th>Promotion Applied</th>\n",
       "      <th>Delivery Time (Days)</th>\n",
       "    </tr>\n",
       "  </thead>\n",
       "  <tbody>\n",
       "    <tr>\n",
       "      <th>0</th>\n",
       "      <td>0</td>\n",
       "      <td>2022-10-01</td>\n",
       "      <td>CUST002</td>\n",
       "      <td>1</td>\n",
       "      <td>1000</td>\n",
       "      <td>Tier 2</td>\n",
       "      <td>North America</td>\n",
       "      <td>Summer</td>\n",
       "      <td>Yes</td>\n",
       "      <td>8.0</td>\n",
       "    </tr>\n",
       "    <tr>\n",
       "      <th>1</th>\n",
       "      <td>1</td>\n",
       "      <td>2022-10-01</td>\n",
       "      <td>CUST003</td>\n",
       "      <td>4</td>\n",
       "      <td>4000</td>\n",
       "      <td>Tier 1</td>\n",
       "      <td>Europe</td>\n",
       "      <td>Summer</td>\n",
       "      <td>Yes</td>\n",
       "      <td>8.0</td>\n",
       "    </tr>\n",
       "    <tr>\n",
       "      <th>2</th>\n",
       "      <td>2</td>\n",
       "      <td>2022-10-01</td>\n",
       "      <td>CUST005</td>\n",
       "      <td>3</td>\n",
       "      <td>3000</td>\n",
       "      <td>Tier 1</td>\n",
       "      <td>North America</td>\n",
       "      <td>Summer</td>\n",
       "      <td>No</td>\n",
       "      <td>6.0</td>\n",
       "    </tr>\n",
       "    <tr>\n",
       "      <th>3</th>\n",
       "      <td>3</td>\n",
       "      <td>2022-10-01</td>\n",
       "      <td>CUST006</td>\n",
       "      <td>1</td>\n",
       "      <td>1000</td>\n",
       "      <td>Tier 2</td>\n",
       "      <td>Europe</td>\n",
       "      <td>Summer</td>\n",
       "      <td>No</td>\n",
       "      <td>9.0</td>\n",
       "    </tr>\n",
       "    <tr>\n",
       "      <th>4</th>\n",
       "      <td>4</td>\n",
       "      <td>2022-10-01</td>\n",
       "      <td>CUST008</td>\n",
       "      <td>5</td>\n",
       "      <td>5000</td>\n",
       "      <td>Tier 2</td>\n",
       "      <td>North America</td>\n",
       "      <td>Summer</td>\n",
       "      <td>Yes</td>\n",
       "      <td>3.0</td>\n",
       "    </tr>\n",
       "  </tbody>\n",
       "</table>\n",
       "</div>"
      ],
      "text/plain": [
       "   Unnamed: 0        Date Customer ID Sales Volume  Sales Revenue  \\\n",
       "0           0  2022-10-01     CUST002            1           1000   \n",
       "1           1  2022-10-01     CUST003            4           4000   \n",
       "2           2  2022-10-01     CUST005            3           3000   \n",
       "3           3  2022-10-01     CUST006            1           1000   \n",
       "4           4  2022-10-01     CUST008            5           5000   \n",
       "\n",
       "  Pricing Tier         Region  Season Promotion Applied  Delivery Time (Days)  \n",
       "0       Tier 2  North America  Summer               Yes                   8.0  \n",
       "1       Tier 1         Europe  Summer               Yes                   8.0  \n",
       "2       Tier 1  North America  Summer                No                   6.0  \n",
       "3       Tier 2         Europe  Summer                No                   9.0  \n",
       "4       Tier 2  North America  Summer               Yes                   3.0  "
      ]
     },
     "execution_count": 136,
     "metadata": {},
     "output_type": "execute_result"
    }
   ],
   "source": [
    "# Load the data\n",
    "\n",
    "import pandas as pd\n",
    "import numpy as np \n",
    "\n",
    "df = pd.read_csv('FreshBite_Sales_20241203.csv')\n",
    "df.head()"
   ]
  },
  {
   "cell_type": "code",
   "execution_count": 137,
   "metadata": {},
   "outputs": [
    {
     "data": {
      "text/plain": [
       "(651, 10)"
      ]
     },
     "execution_count": 137,
     "metadata": {},
     "output_type": "execute_result"
    }
   ],
   "source": [
    "# Check the number of rows and columns \n",
    "\n",
    "df.shape"
   ]
  },
  {
   "cell_type": "code",
   "execution_count": 138,
   "metadata": {},
   "outputs": [
    {
     "data": {
      "text/plain": [
       "Index(['Unnamed: 0', 'Date', 'Customer ID', 'Sales Volume', 'Sales Revenue',\n",
       "       'Pricing Tier', 'Region', 'Season', 'Promotion Applied',\n",
       "       'Delivery Time (Days)'],\n",
       "      dtype='object')"
      ]
     },
     "execution_count": 138,
     "metadata": {},
     "output_type": "execute_result"
    }
   ],
   "source": [
    "# Column names in the data\n",
    "\n",
    "df.columns"
   ]
  },
  {
   "cell_type": "code",
   "execution_count": 139,
   "metadata": {},
   "outputs": [],
   "source": [
    "# Remove the unneccessary column \n",
    "\n",
    "df = df.drop(columns=['Unnamed: 0'])\n"
   ]
  },
  {
   "cell_type": "code",
   "execution_count": 140,
   "metadata": {},
   "outputs": [
    {
     "data": {
      "text/html": [
       "<div>\n",
       "<style scoped>\n",
       "    .dataframe tbody tr th:only-of-type {\n",
       "        vertical-align: middle;\n",
       "    }\n",
       "\n",
       "    .dataframe tbody tr th {\n",
       "        vertical-align: top;\n",
       "    }\n",
       "\n",
       "    .dataframe thead th {\n",
       "        text-align: right;\n",
       "    }\n",
       "</style>\n",
       "<table border=\"1\" class=\"dataframe\">\n",
       "  <thead>\n",
       "    <tr style=\"text-align: right;\">\n",
       "      <th></th>\n",
       "      <th>Order Date</th>\n",
       "      <th>Customer ID</th>\n",
       "      <th>Sales Volumn (pallet/s)</th>\n",
       "      <th>Sales Revenue</th>\n",
       "      <th>Pricing Tier</th>\n",
       "      <th>Region</th>\n",
       "      <th>Season</th>\n",
       "      <th>Promotion Applied</th>\n",
       "      <th>Delivery Time (Days)</th>\n",
       "    </tr>\n",
       "  </thead>\n",
       "  <tbody>\n",
       "    <tr>\n",
       "      <th>0</th>\n",
       "      <td>2022-10-01</td>\n",
       "      <td>CUST002</td>\n",
       "      <td>1</td>\n",
       "      <td>1000</td>\n",
       "      <td>Tier 2</td>\n",
       "      <td>North America</td>\n",
       "      <td>Summer</td>\n",
       "      <td>Yes</td>\n",
       "      <td>8.0</td>\n",
       "    </tr>\n",
       "    <tr>\n",
       "      <th>1</th>\n",
       "      <td>2022-10-01</td>\n",
       "      <td>CUST003</td>\n",
       "      <td>4</td>\n",
       "      <td>4000</td>\n",
       "      <td>Tier 1</td>\n",
       "      <td>Europe</td>\n",
       "      <td>Summer</td>\n",
       "      <td>Yes</td>\n",
       "      <td>8.0</td>\n",
       "    </tr>\n",
       "    <tr>\n",
       "      <th>2</th>\n",
       "      <td>2022-10-01</td>\n",
       "      <td>CUST005</td>\n",
       "      <td>3</td>\n",
       "      <td>3000</td>\n",
       "      <td>Tier 1</td>\n",
       "      <td>North America</td>\n",
       "      <td>Summer</td>\n",
       "      <td>No</td>\n",
       "      <td>6.0</td>\n",
       "    </tr>\n",
       "    <tr>\n",
       "      <th>3</th>\n",
       "      <td>2022-10-01</td>\n",
       "      <td>CUST006</td>\n",
       "      <td>1</td>\n",
       "      <td>1000</td>\n",
       "      <td>Tier 2</td>\n",
       "      <td>Europe</td>\n",
       "      <td>Summer</td>\n",
       "      <td>No</td>\n",
       "      <td>9.0</td>\n",
       "    </tr>\n",
       "    <tr>\n",
       "      <th>4</th>\n",
       "      <td>2022-10-01</td>\n",
       "      <td>CUST008</td>\n",
       "      <td>5</td>\n",
       "      <td>5000</td>\n",
       "      <td>Tier 2</td>\n",
       "      <td>North America</td>\n",
       "      <td>Summer</td>\n",
       "      <td>Yes</td>\n",
       "      <td>3.0</td>\n",
       "    </tr>\n",
       "  </tbody>\n",
       "</table>\n",
       "</div>"
      ],
      "text/plain": [
       "   Order Date Customer ID Sales Volumn (pallet/s)  Sales Revenue Pricing Tier  \\\n",
       "0  2022-10-01     CUST002                       1           1000       Tier 2   \n",
       "1  2022-10-01     CUST003                       4           4000       Tier 1   \n",
       "2  2022-10-01     CUST005                       3           3000       Tier 1   \n",
       "3  2022-10-01     CUST006                       1           1000       Tier 2   \n",
       "4  2022-10-01     CUST008                       5           5000       Tier 2   \n",
       "\n",
       "          Region  Season Promotion Applied  Delivery Time (Days)  \n",
       "0  North America  Summer               Yes                   8.0  \n",
       "1         Europe  Summer               Yes                   8.0  \n",
       "2  North America  Summer                No                   6.0  \n",
       "3         Europe  Summer                No                   9.0  \n",
       "4  North America  Summer               Yes                   3.0  "
      ]
     },
     "execution_count": 140,
     "metadata": {},
     "output_type": "execute_result"
    }
   ],
   "source": [
    "# Renaming the columns\n",
    "\n",
    "df = df.rename(columns={'Date': 'Order Date', 'Sales Volume': 'Sales Volumn (pallet/s)'})\n",
    "df.head()"
   ]
  },
  {
   "cell_type": "code",
   "execution_count": 141,
   "metadata": {},
   "outputs": [
    {
     "data": {
      "text/plain": [
       "Order Date                  object\n",
       "Customer ID                 object\n",
       "Sales Volumn (pallet/s)     object\n",
       "Sales Revenue                int64\n",
       "Pricing Tier                object\n",
       "Region                      object\n",
       "Season                      object\n",
       "Promotion Applied           object\n",
       "Delivery Time (Days)       float64\n",
       "dtype: object"
      ]
     },
     "execution_count": 141,
     "metadata": {},
     "output_type": "execute_result"
    }
   ],
   "source": [
    "# Checking data type of columns\n",
    "\n",
    "df.dtypes"
   ]
  },
  {
   "cell_type": "code",
   "execution_count": 142,
   "metadata": {},
   "outputs": [],
   "source": [
    "# convert the data type of columns\n",
    "\n",
    "df['Order Date'] = pd.to_datetime(df['Order Date'])\n",
    "df['Customer ID'] = df['Customer ID'].astype('string')\n",
    "df['Pricing Tier'] = df['Pricing Tier'].astype('string')\n",
    "df['Region'] = df['Region'].astype('string')\n",
    "df['Season'] = df['Season'].astype('string')\n",
    "df['Promotion Applied'] = df['Promotion Applied'].astype('string')"
   ]
  },
  {
   "cell_type": "code",
   "execution_count": 143,
   "metadata": {},
   "outputs": [],
   "source": [
    "# Convert the data type from Object to the float\n",
    "\n",
    "# df['Sales Volumn (pallet/s)'] = pd.to_numeric(df['Sales Volumn (pallet/s)'], errors='coerce')\n"
   ]
  },
  {
   "cell_type": "code",
   "execution_count": 144,
   "metadata": {},
   "outputs": [
    {
     "data": {
      "text/plain": [
       "Order Date                 datetime64[ns]\n",
       "Customer ID                string[python]\n",
       "Sales Volumn (pallet/s)            object\n",
       "Sales Revenue                       int64\n",
       "Pricing Tier               string[python]\n",
       "Region                     string[python]\n",
       "Season                     string[python]\n",
       "Promotion Applied          string[python]\n",
       "Delivery Time (Days)              float64\n",
       "dtype: object"
      ]
     },
     "execution_count": 144,
     "metadata": {},
     "output_type": "execute_result"
    }
   ],
   "source": [
    "# After converting the data type of the columns\n",
    "\n",
    "df.dtypes"
   ]
  },
  {
   "cell_type": "code",
   "execution_count": 145,
   "metadata": {},
   "outputs": [
    {
     "name": "stdout",
     "output_type": "stream",
     "text": [
      "<class 'pandas.core.frame.DataFrame'>\n",
      "RangeIndex: 651 entries, 0 to 650\n",
      "Data columns (total 9 columns):\n",
      " #   Column                   Non-Null Count  Dtype         \n",
      "---  ------                   --------------  -----         \n",
      " 0   Order Date               651 non-null    datetime64[ns]\n",
      " 1   Customer ID              651 non-null    string        \n",
      " 2   Sales Volumn (pallet/s)  651 non-null    object        \n",
      " 3   Sales Revenue            651 non-null    int64         \n",
      " 4   Pricing Tier             651 non-null    string        \n",
      " 5   Region                   627 non-null    string        \n",
      " 6   Season                   651 non-null    string        \n",
      " 7   Promotion Applied        651 non-null    string        \n",
      " 8   Delivery Time (Days)     622 non-null    float64       \n",
      "dtypes: datetime64[ns](1), float64(1), int64(1), object(1), string(5)\n",
      "memory usage: 45.9+ KB\n"
     ]
    }
   ],
   "source": [
    "# To get summary of the data\n",
    "df.info()"
   ]
  },
  {
   "cell_type": "code",
   "execution_count": 146,
   "metadata": {},
   "outputs": [
    {
     "data": {
      "text/plain": [
       "Sales Volumn (pallet/s)\n",
       "3             102\n",
       "4              97\n",
       "1              90\n",
       "5              90\n",
       "6              86\n",
       "8              61\n",
       "7              53\n",
       "2              34\n",
       "9              14\n",
       "10             11\n",
       "3 Pallet/s      4\n",
       "8 Pallet/s      3\n",
       "4 Pallet/s      2\n",
       "2 Pallet/s      1\n",
       "5 Pallet/s      1\n",
       "1 Pallet/s      1\n",
       "7 Pallet/s      1\n",
       "Name: count, dtype: int64"
      ]
     },
     "execution_count": 146,
     "metadata": {},
     "output_type": "execute_result"
    }
   ],
   "source": [
    "# Check the value count of the sales volumn column\n",
    "\n",
    "df['Sales Volumn (pallet/s)'].value_counts()"
   ]
  },
  {
   "cell_type": "code",
   "execution_count": 147,
   "metadata": {},
   "outputs": [
    {
     "data": {
      "text/plain": [
       "Sales Volumn (pallet/s)\n",
       "3     106\n",
       "4      99\n",
       "1      91\n",
       "5      91\n",
       "6      86\n",
       "8      64\n",
       "7      54\n",
       "2      35\n",
       "9      14\n",
       "10     11\n",
       "Name: count, dtype: int64"
      ]
     },
     "execution_count": 147,
     "metadata": {},
     "output_type": "execute_result"
    }
   ],
   "source": [
    "# Remove the unwanted value form the sales vloumn column\n",
    "\n",
    "df['Sales Volumn (pallet/s)'] = df['Sales Volumn (pallet/s)'].str.replace(' Pallet/s', '', regex=False)\n",
    "df['Sales Volumn (pallet/s)'].value_counts()\n"
   ]
  },
  {
   "cell_type": "code",
   "execution_count": 148,
   "metadata": {},
   "outputs": [],
   "source": [
    "# Changing the data type of the Sales Volumn column into integer\n",
    "\n",
    "df['Sales Volumn (pallet/s)'] = pd.to_numeric(df['Sales Volumn (pallet/s)'], errors='coerce')\n"
   ]
  },
  {
   "cell_type": "code",
   "execution_count": 166,
   "metadata": {},
   "outputs": [
    {
     "data": {
      "text/plain": [
       "Season\n",
       "Summer    422\n",
       "Winter    200\n",
       "summer     21\n",
       "winter      8\n",
       "Name: count, dtype: Int64"
      ]
     },
     "execution_count": 166,
     "metadata": {},
     "output_type": "execute_result"
    }
   ],
   "source": [
    "# Check the value count of the Season column\n",
    "\n",
    "df['Season'].value_counts()"
   ]
  },
  {
   "cell_type": "code",
   "execution_count": 168,
   "metadata": {},
   "outputs": [
    {
     "data": {
      "text/plain": [
       "Season\n",
       "Summer    443\n",
       "Winter    208\n",
       "Name: count, dtype: Int64"
      ]
     },
     "execution_count": 168,
     "metadata": {},
     "output_type": "execute_result"
    }
   ],
   "source": [
    "# Capitalize all the values\n",
    "\n",
    "df['Season'] = df['Season'].str.capitalize()\n",
    "df['Season'].value_counts()"
   ]
  },
  {
   "cell_type": "code",
   "execution_count": 149,
   "metadata": {},
   "outputs": [
    {
     "data": {
      "text/plain": [
       "Order Date                 datetime64[ns]\n",
       "Customer ID                string[python]\n",
       "Sales Volumn (pallet/s)             int64\n",
       "Sales Revenue                       int64\n",
       "Pricing Tier               string[python]\n",
       "Region                     string[python]\n",
       "Season                     string[python]\n",
       "Promotion Applied          string[python]\n",
       "Delivery Time (Days)              float64\n",
       "dtype: object"
      ]
     },
     "execution_count": 149,
     "metadata": {},
     "output_type": "execute_result"
    }
   ],
   "source": [
    "df.dtypes"
   ]
  },
  {
   "cell_type": "code",
   "execution_count": 150,
   "metadata": {},
   "outputs": [],
   "source": [
    "# Fill the Missing Values"
   ]
  },
  {
   "cell_type": "code",
   "execution_count": 151,
   "metadata": {},
   "outputs": [
    {
     "data": {
      "text/plain": [
       "Order Date                  0\n",
       "Customer ID                 0\n",
       "Sales Volumn (pallet/s)     0\n",
       "Sales Revenue               0\n",
       "Pricing Tier                0\n",
       "Region                     24\n",
       "Season                      0\n",
       "Promotion Applied           0\n",
       "Delivery Time (Days)       29\n",
       "dtype: int64"
      ]
     },
     "execution_count": 151,
     "metadata": {},
     "output_type": "execute_result"
    }
   ],
   "source": [
    "#To count missing values in each column\n",
    "df.isnull().sum()"
   ]
  },
  {
   "cell_type": "code",
   "execution_count": 152,
   "metadata": {},
   "outputs": [
    {
     "data": {
      "image/png": "[encoded data removed]",
      "text/plain": [
       "<Figure size 600x400 with 1 Axes>"
      ]
     },
     "metadata": {},
     "output_type": "display_data"
    }
   ],
   "source": [
    "# Check the outlier to fill the missing values\n",
    "\n",
    "import seaborn as sns\n",
    "import matplotlib.pyplot as plt\n",
    "\n",
    "plt.figure(figsize=(6, 4))\n",
    "sns.boxplot(data=df['Sales Volumn (pallet/s)'])\n",
    "plt.title('Box Plot')\n",
    "plt.show()"
   ]
  },
  {
   "cell_type": "code",
   "execution_count": 153,
   "metadata": {},
   "outputs": [
    {
     "data": {
      "image/png": "[encoded data removed]",
      "text/plain": [
       "<Figure size 600x400 with 1 Axes>"
      ]
     },
     "metadata": {},
     "output_type": "display_data"
    }
   ],
   "source": [
    "plt.figure(figsize=(6, 4))\n",
    "sns.boxplot(data=df['Delivery Time (Days)'])\n",
    "plt.title('Box Plot')\n",
    "plt.show()"
   ]
  },
  {
   "cell_type": "code",
   "execution_count": 154,
   "metadata": {},
   "outputs": [
    {
     "data": {
      "image/png": "[encoded data removed]",
      "text/plain": [
       "<Figure size 600x400 with 1 Axes>"
      ]
     },
     "metadata": {},
     "output_type": "display_data"
    }
   ],
   "source": [
    "plt.figure(figsize=(6, 4))\n",
    "sns.boxplot(data=df['Sales Revenue'])\n",
    "plt.title('Box Plot')\n",
    "plt.show()"
   ]
  },
  {
   "cell_type": "code",
   "execution_count": 155,
   "metadata": {},
   "outputs": [
    {
     "data": {
      "text/plain": [
       "Order Date                  0\n",
       "Customer ID                 0\n",
       "Sales Volumn (pallet/s)     0\n",
       "Sales Revenue               0\n",
       "Pricing Tier                0\n",
       "Region                     24\n",
       "Season                      0\n",
       "Promotion Applied           0\n",
       "Delivery Time (Days)       29\n",
       "dtype: int64"
      ]
     },
     "execution_count": 155,
     "metadata": {},
     "output_type": "execute_result"
    }
   ],
   "source": [
    "#To count missing values in each column\n",
    "\n",
    "df.isnull().sum()"
   ]
  },
  {
   "cell_type": "code",
   "execution_count": 156,
   "metadata": {},
   "outputs": [
    {
     "data": {
      "image/png": "[encoded data removed]",
      "text/plain": [
       "<Figure size 600x400 with 1 Axes>"
      ]
     },
     "metadata": {},
     "output_type": "display_data"
    },
    {
     "data": {
      "image/png": "[encoded data removed]",
      "text/plain": [
       "<Figure size 600x400 with 1 Axes>"
      ]
     },
     "metadata": {},
     "output_type": "display_data"
    }
   ],
   "source": [
    "# Check the distribution of the column to fill the missing values\n",
    "\n",
    "plt.figure(figsize=(6, 4))\n",
    "plt.hist(df['Sales Volumn (pallet/s)'],edgecolor='black')\n",
    "plt.title('Histogram of Sales Volumn (pallet/s)')\n",
    "plt.xlabel('Sales Volumn (pallet/s)')\n",
    "plt.ylabel('Frequency')\n",
    "\n",
    "plt.figure(figsize=(6, 4))\n",
    "plt.hist(df['Delivery Time (Days)'],edgecolor='black')\n",
    "plt.title('Histogram of Delivery Time (Days)')\n",
    "plt.xlabel('Delivery Time (Days)')\n",
    "plt.ylabel('Frequency')\n",
    "\n",
    "plt.show()"
   ]
  },
  {
   "cell_type": "code",
   "execution_count": 157,
   "metadata": {},
   "outputs": [
    {
     "name": "stdout",
     "output_type": "stream",
     "text": [
      "Skewness of Demand_Units: 0.6068726085628887\n"
     ]
    }
   ],
   "source": [
    "# Check the skewness of the Delivery Time column\n",
    "\n",
    "skewness = df['Delivery Time (Days)'].skew()\n",
    "print(f\"Skewness of Demand_Units: {skewness}\")"
   ]
  },
  {
   "cell_type": "code",
   "execution_count": 158,
   "metadata": {},
   "outputs": [],
   "source": [
    "# Fill the missig vlues by mean, median and mode\n",
    "\n",
    "df['Sales Volumn (pallet/s)'] = df['Sales Volumn (pallet/s)'].fillna(df['Sales Volumn (pallet/s)'].mean())\n",
    "df['Region'] = df['Region'].fillna(df['Region'].mode()[0])\n",
    "df['Delivery Time (Days)'] = df['Delivery Time (Days)'].fillna(df['Delivery Time (Days)'].median())\n"
   ]
  },
  {
   "cell_type": "code",
   "execution_count": 159,
   "metadata": {},
   "outputs": [
    {
     "data": {
      "text/plain": [
       "Order Date                 0\n",
       "Customer ID                0\n",
       "Sales Volumn (pallet/s)    0\n",
       "Sales Revenue              0\n",
       "Pricing Tier               0\n",
       "Region                     0\n",
       "Season                     0\n",
       "Promotion Applied          0\n",
       "Delivery Time (Days)       0\n",
       "dtype: int64"
      ]
     },
     "execution_count": 159,
     "metadata": {},
     "output_type": "execute_result"
    }
   ],
   "source": [
    "# After filling the missing values\n",
    "\n",
    "df.isnull().sum()"
   ]
  },
  {
   "cell_type": "code",
   "execution_count": 160,
   "metadata": {},
   "outputs": [
    {
     "data": {
      "text/html": [
       "<div>\n",
       "<style scoped>\n",
       "    .dataframe tbody tr th:only-of-type {\n",
       "        vertical-align: middle;\n",
       "    }\n",
       "\n",
       "    .dataframe tbody tr th {\n",
       "        vertical-align: top;\n",
       "    }\n",
       "\n",
       "    .dataframe thead th {\n",
       "        text-align: right;\n",
       "    }\n",
       "</style>\n",
       "<table border=\"1\" class=\"dataframe\">\n",
       "  <thead>\n",
       "    <tr style=\"text-align: right;\">\n",
       "      <th></th>\n",
       "      <th>Order Date</th>\n",
       "      <th>Customer ID</th>\n",
       "      <th>Sales Volumn (pallet/s)</th>\n",
       "      <th>Sales Revenue</th>\n",
       "      <th>Pricing Tier</th>\n",
       "      <th>Region</th>\n",
       "      <th>Season</th>\n",
       "      <th>Promotion Applied</th>\n",
       "      <th>Delivery Time (Days)</th>\n",
       "    </tr>\n",
       "  </thead>\n",
       "  <tbody>\n",
       "    <tr>\n",
       "      <th>0</th>\n",
       "      <td>2022-10-01</td>\n",
       "      <td>CUST002</td>\n",
       "      <td>1</td>\n",
       "      <td>1000</td>\n",
       "      <td>Tier 2</td>\n",
       "      <td>North America</td>\n",
       "      <td>Summer</td>\n",
       "      <td>Yes</td>\n",
       "      <td>8.0</td>\n",
       "    </tr>\n",
       "    <tr>\n",
       "      <th>1</th>\n",
       "      <td>2022-10-01</td>\n",
       "      <td>CUST003</td>\n",
       "      <td>4</td>\n",
       "      <td>4000</td>\n",
       "      <td>Tier 1</td>\n",
       "      <td>Europe</td>\n",
       "      <td>Summer</td>\n",
       "      <td>Yes</td>\n",
       "      <td>8.0</td>\n",
       "    </tr>\n",
       "    <tr>\n",
       "      <th>2</th>\n",
       "      <td>2022-10-01</td>\n",
       "      <td>CUST005</td>\n",
       "      <td>3</td>\n",
       "      <td>3000</td>\n",
       "      <td>Tier 1</td>\n",
       "      <td>North America</td>\n",
       "      <td>Summer</td>\n",
       "      <td>No</td>\n",
       "      <td>6.0</td>\n",
       "    </tr>\n",
       "    <tr>\n",
       "      <th>3</th>\n",
       "      <td>2022-10-01</td>\n",
       "      <td>CUST006</td>\n",
       "      <td>1</td>\n",
       "      <td>1000</td>\n",
       "      <td>Tier 2</td>\n",
       "      <td>Europe</td>\n",
       "      <td>Summer</td>\n",
       "      <td>No</td>\n",
       "      <td>9.0</td>\n",
       "    </tr>\n",
       "    <tr>\n",
       "      <th>4</th>\n",
       "      <td>2022-10-01</td>\n",
       "      <td>CUST008</td>\n",
       "      <td>5</td>\n",
       "      <td>5000</td>\n",
       "      <td>Tier 2</td>\n",
       "      <td>North America</td>\n",
       "      <td>Summer</td>\n",
       "      <td>Yes</td>\n",
       "      <td>3.0</td>\n",
       "    </tr>\n",
       "  </tbody>\n",
       "</table>\n",
       "</div>"
      ],
      "text/plain": [
       "  Order Date Customer ID  Sales Volumn (pallet/s)  Sales Revenue Pricing Tier  \\\n",
       "0 2022-10-01     CUST002                        1           1000       Tier 2   \n",
       "1 2022-10-01     CUST003                        4           4000       Tier 1   \n",
       "2 2022-10-01     CUST005                        3           3000       Tier 1   \n",
       "3 2022-10-01     CUST006                        1           1000       Tier 2   \n",
       "4 2022-10-01     CUST008                        5           5000       Tier 2   \n",
       "\n",
       "          Region  Season Promotion Applied  Delivery Time (Days)  \n",
       "0  North America  Summer               Yes                   8.0  \n",
       "1         Europe  Summer               Yes                   8.0  \n",
       "2  North America  Summer                No                   6.0  \n",
       "3         Europe  Summer                No                   9.0  \n",
       "4  North America  Summer               Yes                   3.0  "
      ]
     },
     "execution_count": 160,
     "metadata": {},
     "output_type": "execute_result"
    }
   ],
   "source": [
    "# Checking the duplicate rows in data\n",
    "\n",
    "df.duplicated().any()\n",
    "df.head()"
   ]
  },
  {
   "cell_type": "code",
   "execution_count": null,
   "metadata": {},
   "outputs": [],
   "source": []
  },
  {
   "cell_type": "code",
   "execution_count": 161,
   "metadata": {},
   "outputs": [
    {
     "data": {
      "image/png": "[encoded data removed]",
      "text/plain": [
       "<Figure size 600x400 with 1 Axes>"
      ]
     },
     "metadata": {},
     "output_type": "display_data"
    }
   ],
   "source": [
    "# Checking Outlier\n",
    "\n",
    "plt.figure(figsize=(6, 4))\n",
    "sns.boxplot(data=df['Delivery Time (Days)'])\n",
    "plt.title('Box Plot')\n",
    "plt.show()"
   ]
  },
  {
   "cell_type": "code",
   "execution_count": 162,
   "metadata": {},
   "outputs": [],
   "source": [
    "# Remove Outlier\n",
    "\n",
    "Q1 = df['Delivery Time (Days)'].quantile(0.25)\n",
    "Q3 = df['Delivery Time (Days)'].quantile(0.75)\n",
    "\n",
    "IQR = Q3 - Q1\n",
    "\n",
    "lower_bound = Q1 - 1.5 * IQR\n",
    "upper_bound = Q3 + 1.5 * IQR\n",
    "\n",
    "new_df = df[(df['Delivery Time (Days)'] >= lower_bound) & (df['Delivery Time (Days)'] <= upper_bound)]\n",
    "\n"
   ]
  },
  {
   "cell_type": "code",
   "execution_count": 163,
   "metadata": {},
   "outputs": [
    {
     "data": {
      "image/png": "[encoded data removed]",
      "text/plain": [
       "<Figure size 600x400 with 1 Axes>"
      ]
     },
     "metadata": {},
     "output_type": "display_data"
    }
   ],
   "source": [
    "# After removing outliers\n",
    "\n",
    "plt.figure(figsize=(6, 4))\n",
    "sns.boxplot(data=new_df['Delivery Time (Days)'])\n",
    "plt.title('Box Plot')\n",
    "plt.show()"
   ]
  },
  {
   "cell_type": "code",
   "execution_count": 164,
   "metadata": {},
   "outputs": [
    {
     "data": {
      "image/png": "[encoded data removed]",
      "text/plain": [
       "<Figure size 640x480 with 1 Axes>"
      ]
     },
     "metadata": {},
     "output_type": "display_data"
    },
    {
     "data": {
      "image/png": "[encoded data removed]",
      "text/plain": [
       "<Figure size 640x480 with 1 Axes>"
      ]
     },
     "metadata": {},
     "output_type": "display_data"
    }
   ],
   "source": [
    "# Check the normality of data\n",
    "\n",
    "import matplotlib.pyplot as plt\n",
    "\n",
    "plt.hist(new_df['Delivery Time (Days)'], edgecolor='black')\n",
    "plt.title('Histogram of Delivery Time (Days)')\n",
    "plt.xlabel('Delivery Time (Days)')\n",
    "plt.ylabel('Frequency')\n",
    "plt.show()\n",
    "\n",
    "plt.hist(new_df['Sales Volumn (pallet/s)'], edgecolor='black')\n",
    "plt.title('Histogram of Sales Volumn (pallet/s)')\n",
    "plt.xlabel('Sales Volumn (pallet/s)')\n",
    "plt.ylabel('Frequency')\n",
    "plt.show()"
   ]
  },
  {
   "cell_type": "code",
   "execution_count": 165,
   "metadata": {},
   "outputs": [
    {
     "data": {
      "text/html": [
       "<div>\n",
       "<style scoped>\n",
       "    .dataframe tbody tr th:only-of-type {\n",
       "        vertical-align: middle;\n",
       "    }\n",
       "\n",
       "    .dataframe tbody tr th {\n",
       "        vertical-align: top;\n",
       "    }\n",
       "\n",
       "    .dataframe thead th {\n",
       "        text-align: right;\n",
       "    }\n",
       "</style>\n",
       "<table border=\"1\" class=\"dataframe\">\n",
       "  <thead>\n",
       "    <tr style=\"text-align: right;\">\n",
       "      <th></th>\n",
       "      <th>Order Date</th>\n",
       "      <th>Customer ID</th>\n",
       "      <th>Sales Volumn (pallet/s)</th>\n",
       "      <th>Sales Revenue</th>\n",
       "      <th>Pricing Tier</th>\n",
       "      <th>Region</th>\n",
       "      <th>Season</th>\n",
       "      <th>Promotion Applied</th>\n",
       "      <th>Delivery Time (Days)</th>\n",
       "    </tr>\n",
       "  </thead>\n",
       "  <tbody>\n",
       "    <tr>\n",
       "      <th>0</th>\n",
       "      <td>2022-10-01</td>\n",
       "      <td>CUST002</td>\n",
       "      <td>1</td>\n",
       "      <td>1000</td>\n",
       "      <td>Tier 2</td>\n",
       "      <td>North America</td>\n",
       "      <td>Summer</td>\n",
       "      <td>Yes</td>\n",
       "      <td>8.0</td>\n",
       "    </tr>\n",
       "    <tr>\n",
       "      <th>1</th>\n",
       "      <td>2022-10-01</td>\n",
       "      <td>CUST003</td>\n",
       "      <td>4</td>\n",
       "      <td>4000</td>\n",
       "      <td>Tier 1</td>\n",
       "      <td>Europe</td>\n",
       "      <td>Summer</td>\n",
       "      <td>Yes</td>\n",
       "      <td>8.0</td>\n",
       "    </tr>\n",
       "    <tr>\n",
       "      <th>2</th>\n",
       "      <td>2022-10-01</td>\n",
       "      <td>CUST005</td>\n",
       "      <td>3</td>\n",
       "      <td>3000</td>\n",
       "      <td>Tier 1</td>\n",
       "      <td>North America</td>\n",
       "      <td>Summer</td>\n",
       "      <td>No</td>\n",
       "      <td>6.0</td>\n",
       "    </tr>\n",
       "    <tr>\n",
       "      <th>3</th>\n",
       "      <td>2022-10-01</td>\n",
       "      <td>CUST006</td>\n",
       "      <td>1</td>\n",
       "      <td>1000</td>\n",
       "      <td>Tier 2</td>\n",
       "      <td>Europe</td>\n",
       "      <td>Summer</td>\n",
       "      <td>No</td>\n",
       "      <td>9.0</td>\n",
       "    </tr>\n",
       "    <tr>\n",
       "      <th>4</th>\n",
       "      <td>2022-10-01</td>\n",
       "      <td>CUST008</td>\n",
       "      <td>5</td>\n",
       "      <td>5000</td>\n",
       "      <td>Tier 2</td>\n",
       "      <td>North America</td>\n",
       "      <td>Summer</td>\n",
       "      <td>Yes</td>\n",
       "      <td>3.0</td>\n",
       "    </tr>\n",
       "  </tbody>\n",
       "</table>\n",
       "</div>"
      ],
      "text/plain": [
       "  Order Date Customer ID  Sales Volumn (pallet/s)  Sales Revenue Pricing Tier  \\\n",
       "0 2022-10-01     CUST002                        1           1000       Tier 2   \n",
       "1 2022-10-01     CUST003                        4           4000       Tier 1   \n",
       "2 2022-10-01     CUST005                        3           3000       Tier 1   \n",
       "3 2022-10-01     CUST006                        1           1000       Tier 2   \n",
       "4 2022-10-01     CUST008                        5           5000       Tier 2   \n",
       "\n",
       "          Region  Season Promotion Applied  Delivery Time (Days)  \n",
       "0  North America  Summer               Yes                   8.0  \n",
       "1         Europe  Summer               Yes                   8.0  \n",
       "2  North America  Summer                No                   6.0  \n",
       "3         Europe  Summer                No                   9.0  \n",
       "4  North America  Summer               Yes                   3.0  "
      ]
     },
     "execution_count": 165,
     "metadata": {},
     "output_type": "execute_result"
    }
   ],
   "source": [
    "new_df.head()"
   ]
  },
  {
   "cell_type": "code",
   "execution_count": null,
   "metadata": {},
   "outputs": [],
   "source": []
  }
 ],
 "metadata": {
  "kernelspec": {
   "display_name": "Python 3",
   "language": "python",
   "name": "python3"
  },
  "language_info": {
   "codemirror_mode": {
    "name": "ipython",
    "version": 3
   },
   "file_extension": ".py",
   "mimetype": "text/x-python",
   "name": "python",
   "nbconvert_exporter": "python",
   "pygments_lexer": "ipython3",
   "version": "3.12.1"
  }
 },
 "nbformat": 4,
 "nbformat_minor": 2
}
