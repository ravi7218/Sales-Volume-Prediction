{
 "cells": [
  {
   "cell_type": "markdown",
   "metadata": {},
   "source": [
    "# FreshBite Sales Prediction"
   ]
  },
  {
   "cell_type": "markdown",
   "metadata": {},
   "source": [
    "### Data Cleaning"
   ]
  },
  {
   "cell_type": "code",
   "execution_count": null,
   "metadata": {},
   "outputs": [
    {
     "data": {
      "text/html": [
       "<div>\n",
       "<style scoped>\n",
       "    .dataframe tbody tr th:only-of-type {\n",
       "        vertical-align: middle;\n",
       "    }\n",
       "\n",
       "    .dataframe tbody tr th {\n",
       "        vertical-align: top;\n",
       "    }\n",
       "\n",
       "    .dataframe thead th {\n",
       "        text-align: right;\n",
       "    }\n",
       "</style>\n",
       "<table border=\"1\" class=\"dataframe\">\n",
       "  <thead>\n",
       "    <tr style=\"text-align: right;\">\n",
       "      <th></th>\n",
       "      <th>Date</th>\n",
       "      <th>Customer ID</th>\n",
       "      <th>Sales Volume</th>\n",
       "      <th>Sales Revenue</th>\n",
       "      <th>Pricing Tier</th>\n",
       "      <th>Region</th>\n",
       "      <th>Season</th>\n",
       "      <th>Promotion Applied</th>\n",
       "      <th>Delivery Time (Days)</th>\n",
       "    </tr>\n",
       "  </thead>\n",
       "  <tbody>\n",
       "    <tr>\n",
       "      <th>0</th>\n",
       "      <td>2022-10-01</td>\n",
       "      <td>CUST002</td>\n",
       "      <td>1</td>\n",
       "      <td>100.0</td>\n",
       "      <td>Tier 3</td>\n",
       "      <td>North America</td>\n",
       "      <td>Summer</td>\n",
       "      <td>Yes</td>\n",
       "      <td>8.0</td>\n",
       "    </tr>\n",
       "    <tr>\n",
       "      <th>1</th>\n",
       "      <td>2022-10-01</td>\n",
       "      <td>CUST003</td>\n",
       "      <td>4</td>\n",
       "      <td>360.0</td>\n",
       "      <td>Tier 2</td>\n",
       "      <td>Europe</td>\n",
       "      <td>Summer</td>\n",
       "      <td>Yes</td>\n",
       "      <td>8.0</td>\n",
       "    </tr>\n",
       "    <tr>\n",
       "      <th>2</th>\n",
       "      <td>2022-10-01</td>\n",
       "      <td>CUST005</td>\n",
       "      <td>1</td>\n",
       "      <td>100.0</td>\n",
       "      <td>Tier 3</td>\n",
       "      <td>North America</td>\n",
       "      <td>Summer</td>\n",
       "      <td>No</td>\n",
       "      <td>6.0</td>\n",
       "    </tr>\n",
       "    <tr>\n",
       "      <th>3</th>\n",
       "      <td>2022-10-01</td>\n",
       "      <td>CUST006</td>\n",
       "      <td>1</td>\n",
       "      <td>100.0</td>\n",
       "      <td>Tier 3</td>\n",
       "      <td>Europe</td>\n",
       "      <td>Summer</td>\n",
       "      <td>No</td>\n",
       "      <td>9.0</td>\n",
       "    </tr>\n",
       "    <tr>\n",
       "      <th>4</th>\n",
       "      <td>2022-10-01</td>\n",
       "      <td>CUST008</td>\n",
       "      <td>7</td>\n",
       "      <td>595.0</td>\n",
       "      <td>Tier 1</td>\n",
       "      <td>North America</td>\n",
       "      <td>Summer</td>\n",
       "      <td>Yes</td>\n",
       "      <td>3.0</td>\n",
       "    </tr>\n",
       "  </tbody>\n",
       "</table>\n",
       "</div>"
      ],
      "text/plain": [
       "        Date Customer ID Sales Volume  Sales Revenue Pricing Tier  \\\n",
       "0 2022-10-01     CUST002            1          100.0       Tier 3   \n",
       "1 2022-10-01     CUST003            4          360.0       Tier 2   \n",
       "2 2022-10-01     CUST005            1          100.0       Tier 3   \n",
       "3 2022-10-01     CUST006            1          100.0       Tier 3   \n",
       "4 2022-10-01     CUST008            7          595.0       Tier 1   \n",
       "\n",
       "          Region  Season Promotion Applied  Delivery Time (Days)  \n",
       "0  North America  Summer               Yes                   8.0  \n",
       "1         Europe  Summer               Yes                   8.0  \n",
       "2  North America  Summer                No                   6.0  \n",
       "3         Europe  Summer                No                   9.0  \n",
       "4  North America  Summer               Yes                   3.0  "
      ]
     },
     "execution_count": 1,
     "metadata": {},
     "output_type": "execute_result"
    }
   ],
   "source": [
    "# Load the df\n",
    "\n",
    "import pandas as pd\n",
    "import numpy as np \n",
    "\n",
    "df = pd.read_excel(r'Dataset\\FreshBites_Dataset_20241203.xlsx',sheet_name=  'FreshBite_inconsistency')\n",
    "df.head()"
   ]
  },
  {
   "cell_type": "code",
   "execution_count": 2,
   "metadata": {},
   "outputs": [
    {
     "data": {
      "text/plain": [
       "(651, 9)"
      ]
     },
     "execution_count": 2,
     "metadata": {},
     "output_type": "execute_result"
    }
   ],
   "source": [
    "# Check the number of rows and columns \n",
    "\n",
    "df.shape"
   ]
  },
  {
   "cell_type": "code",
   "execution_count": 3,
   "metadata": {},
   "outputs": [
    {
     "data": {
      "text/plain": [
       "Index(['Date', 'Customer ID', 'Sales Volume', 'Sales Revenue', 'Pricing Tier',\n",
       "       'Region', 'Season', 'Promotion Applied', 'Delivery Time (Days)'],\n",
       "      dtype='object')"
      ]
     },
     "execution_count": 3,
     "metadata": {},
     "output_type": "execute_result"
    }
   ],
   "source": [
    "# Column names in the data\n",
    "\n",
    "df.columns"
   ]
  },
  {
   "cell_type": "code",
   "execution_count": 3,
   "metadata": {},
   "outputs": [],
   "source": [
    "# Drop the unneccessary columns\n",
    "df.drop(columns=['Sales Revenue'],inplace=True)\n"
   ]
  },
  {
   "cell_type": "code",
   "execution_count": 4,
   "metadata": {},
   "outputs": [
    {
     "data": {
      "text/html": [
       "<div>\n",
       "<style scoped>\n",
       "    .dataframe tbody tr th:only-of-type {\n",
       "        vertical-align: middle;\n",
       "    }\n",
       "\n",
       "    .dataframe tbody tr th {\n",
       "        vertical-align: top;\n",
       "    }\n",
       "\n",
       "    .dataframe thead th {\n",
       "        text-align: right;\n",
       "    }\n",
       "</style>\n",
       "<table border=\"1\" class=\"dataframe\">\n",
       "  <thead>\n",
       "    <tr style=\"text-align: right;\">\n",
       "      <th></th>\n",
       "      <th>Order Date</th>\n",
       "      <th>Customer ID</th>\n",
       "      <th>Sales Volumn (pallet/s)</th>\n",
       "      <th>Pricing Tier</th>\n",
       "      <th>Region</th>\n",
       "      <th>Season</th>\n",
       "      <th>Promotion Applied</th>\n",
       "      <th>Delivery Time (Days)</th>\n",
       "    </tr>\n",
       "  </thead>\n",
       "  <tbody>\n",
       "    <tr>\n",
       "      <th>0</th>\n",
       "      <td>2022-10-01</td>\n",
       "      <td>CUST002</td>\n",
       "      <td>1</td>\n",
       "      <td>Tier 3</td>\n",
       "      <td>North America</td>\n",
       "      <td>Summer</td>\n",
       "      <td>Yes</td>\n",
       "      <td>8.0</td>\n",
       "    </tr>\n",
       "    <tr>\n",
       "      <th>1</th>\n",
       "      <td>2022-10-01</td>\n",
       "      <td>CUST003</td>\n",
       "      <td>4</td>\n",
       "      <td>Tier 2</td>\n",
       "      <td>Europe</td>\n",
       "      <td>Summer</td>\n",
       "      <td>Yes</td>\n",
       "      <td>8.0</td>\n",
       "    </tr>\n",
       "    <tr>\n",
       "      <th>2</th>\n",
       "      <td>2022-10-01</td>\n",
       "      <td>CUST005</td>\n",
       "      <td>1</td>\n",
       "      <td>Tier 3</td>\n",
       "      <td>North America</td>\n",
       "      <td>Summer</td>\n",
       "      <td>No</td>\n",
       "      <td>6.0</td>\n",
       "    </tr>\n",
       "    <tr>\n",
       "      <th>3</th>\n",
       "      <td>2022-10-01</td>\n",
       "      <td>CUST006</td>\n",
       "      <td>1</td>\n",
       "      <td>Tier 3</td>\n",
       "      <td>Europe</td>\n",
       "      <td>Summer</td>\n",
       "      <td>No</td>\n",
       "      <td>9.0</td>\n",
       "    </tr>\n",
       "    <tr>\n",
       "      <th>4</th>\n",
       "      <td>2022-10-01</td>\n",
       "      <td>CUST008</td>\n",
       "      <td>7</td>\n",
       "      <td>Tier 1</td>\n",
       "      <td>North America</td>\n",
       "      <td>Summer</td>\n",
       "      <td>Yes</td>\n",
       "      <td>3.0</td>\n",
       "    </tr>\n",
       "  </tbody>\n",
       "</table>\n",
       "</div>"
      ],
      "text/plain": [
       "  Order Date Customer ID Sales Volumn (pallet/s) Pricing Tier         Region  \\\n",
       "0 2022-10-01     CUST002                       1       Tier 3  North America   \n",
       "1 2022-10-01     CUST003                       4       Tier 2         Europe   \n",
       "2 2022-10-01     CUST005                       1       Tier 3  North America   \n",
       "3 2022-10-01     CUST006                       1       Tier 3         Europe   \n",
       "4 2022-10-01     CUST008                       7       Tier 1  North America   \n",
       "\n",
       "   Season Promotion Applied  Delivery Time (Days)  \n",
       "0  Summer               Yes                   8.0  \n",
       "1  Summer               Yes                   8.0  \n",
       "2  Summer                No                   6.0  \n",
       "3  Summer                No                   9.0  \n",
       "4  Summer               Yes                   3.0  "
      ]
     },
     "execution_count": 4,
     "metadata": {},
     "output_type": "execute_result"
    }
   ],
   "source": [
    "# Renaming the columns\n",
    "\n",
    "df = df.rename(columns={'Date': 'Order Date', 'Sales Volume': 'Sales Volumn (pallet/s)'})\n",
    "df.head()"
   ]
  },
  {
   "cell_type": "code",
   "execution_count": 5,
   "metadata": {},
   "outputs": [
    {
     "data": {
      "text/plain": [
       "Order Date                 datetime64[ns]\n",
       "Customer ID                        object\n",
       "Sales Volumn (pallet/s)            object\n",
       "Pricing Tier                       object\n",
       "Region                             object\n",
       "Season                             object\n",
       "Promotion Applied                  object\n",
       "Delivery Time (Days)              float64\n",
       "dtype: object"
      ]
     },
     "execution_count": 5,
     "metadata": {},
     "output_type": "execute_result"
    }
   ],
   "source": [
    "# Checking data type of columns\n",
    "\n",
    "df.dtypes"
   ]
  },
  {
   "cell_type": "code",
   "execution_count": 10,
   "metadata": {},
   "outputs": [],
   "source": [
    "# convert the data type of columns\n",
    "\n",
    "df['Order Date'] = pd.to_datetime(df['Order Date'])\n",
    "df['Customer ID'] = df['Customer ID'].astype('string')\n",
    "df['Sales Volumn (pallet/s)'] = df['Sales Volumn (pallet/s)'].astype('string')\n",
    "df['Pricing Tier'] = df['Pricing Tier'].astype('string')\n",
    "df['Region'] = df['Region'].astype('string')\n",
    "df['Season'] = df['Season'].astype('string')\n",
    "df['Promotion Applied'] = df['Promotion Applied'].astype('string')"
   ]
  },
  {
   "cell_type": "code",
   "execution_count": 8,
   "metadata": {},
   "outputs": [],
   "source": [
    "# Convert the data type from Object to the float\n",
    "\n",
    "# df['Sales Volumn (pallet/s)'] = pd.to_numeric(df['Sales Volumn (pallet/s)'], errors='coerce')\n"
   ]
  },
  {
   "cell_type": "code",
   "execution_count": 9,
   "metadata": {},
   "outputs": [
    {
     "data": {
      "text/plain": [
       "Order Date                 datetime64[ns]\n",
       "Customer ID                        string\n",
       "Sales Volumn (pallet/s)            object\n",
       "Pricing Tier                       string\n",
       "Region                             string\n",
       "Season                             string\n",
       "Promotion Applied                  string\n",
       "Delivery Time (Days)              float64\n",
       "dtype: object"
      ]
     },
     "execution_count": 9,
     "metadata": {},
     "output_type": "execute_result"
    }
   ],
   "source": [
    "# After converting the data type of the columns\n",
    "\n",
    "df.dtypes"
   ]
  },
  {
   "cell_type": "code",
   "execution_count": 10,
   "metadata": {},
   "outputs": [
    {
     "name": "stdout",
     "output_type": "stream",
     "text": [
      "<class 'pandas.core.frame.DataFrame'>\n",
      "RangeIndex: 651 entries, 0 to 650\n",
      "Data columns (total 8 columns):\n",
      " #   Column                   Non-Null Count  Dtype         \n",
      "---  ------                   --------------  -----         \n",
      " 0   Order Date               651 non-null    datetime64[ns]\n",
      " 1   Customer ID              651 non-null    string        \n",
      " 2   Sales Volumn (pallet/s)  651 non-null    object        \n",
      " 3   Pricing Tier             651 non-null    string        \n",
      " 4   Region                   627 non-null    string        \n",
      " 5   Season                   651 non-null    string        \n",
      " 6   Promotion Applied        651 non-null    string        \n",
      " 7   Delivery Time (Days)     622 non-null    float64       \n",
      "dtypes: datetime64[ns](1), float64(1), object(1), string(5)\n",
      "memory usage: 40.8+ KB\n"
     ]
    }
   ],
   "source": [
    "# To get summary of the data\n",
    "df.info()"
   ]
  },
  {
   "cell_type": "code",
   "execution_count": 11,
   "metadata": {},
   "outputs": [
    {
     "data": {
      "text/html": [
       "<div>\n",
       "<style scoped>\n",
       "    .dataframe tbody tr th:only-of-type {\n",
       "        vertical-align: middle;\n",
       "    }\n",
       "\n",
       "    .dataframe tbody tr th {\n",
       "        vertical-align: top;\n",
       "    }\n",
       "\n",
       "    .dataframe thead th {\n",
       "        text-align: right;\n",
       "    }\n",
       "</style>\n",
       "<table border=\"1\" class=\"dataframe\">\n",
       "  <thead>\n",
       "    <tr style=\"text-align: right;\">\n",
       "      <th></th>\n",
       "      <th>Delivery Time (Days)</th>\n",
       "    </tr>\n",
       "  </thead>\n",
       "  <tbody>\n",
       "    <tr>\n",
       "      <th>count</th>\n",
       "      <td>622.000000</td>\n",
       "    </tr>\n",
       "    <tr>\n",
       "      <th>mean</th>\n",
       "      <td>5.177653</td>\n",
       "    </tr>\n",
       "    <tr>\n",
       "      <th>std</th>\n",
       "      <td>3.027171</td>\n",
       "    </tr>\n",
       "    <tr>\n",
       "      <th>min</th>\n",
       "      <td>1.000000</td>\n",
       "    </tr>\n",
       "    <tr>\n",
       "      <th>25%</th>\n",
       "      <td>3.000000</td>\n",
       "    </tr>\n",
       "    <tr>\n",
       "      <th>50%</th>\n",
       "      <td>5.000000</td>\n",
       "    </tr>\n",
       "    <tr>\n",
       "      <th>75%</th>\n",
       "      <td>8.000000</td>\n",
       "    </tr>\n",
       "    <tr>\n",
       "      <th>max</th>\n",
       "      <td>17.100000</td>\n",
       "    </tr>\n",
       "  </tbody>\n",
       "</table>\n",
       "</div>"
      ],
      "text/plain": [
       "       Delivery Time (Days)\n",
       "count            622.000000\n",
       "mean               5.177653\n",
       "std                3.027171\n",
       "min                1.000000\n",
       "25%                3.000000\n",
       "50%                5.000000\n",
       "75%                8.000000\n",
       "max               17.100000"
      ]
     },
     "execution_count": 11,
     "metadata": {},
     "output_type": "execute_result"
    }
   ],
   "source": [
    "#Get summary statistics of Data\n",
    "df.describe()"
   ]
  },
  {
   "cell_type": "code",
   "execution_count": 20,
   "metadata": {},
   "outputs": [
    {
     "data": {
      "text/plain": [
       "1      3\n",
       "10     2\n",
       "3      2\n",
       "8      1\n",
       "6      1\n",
       "2      1\n",
       "5      1\n",
       "4      1\n",
       "9      1\n",
       "Name: Sales Volumn (pallet/s), dtype: int64"
      ]
     },
     "execution_count": 20,
     "metadata": {},
     "output_type": "execute_result"
    }
   ],
   "source": [
    "# Check the value count of the sales volumn column\n",
    "\n",
    "df['Sales Volumn (pallet/s)'].value_counts()"
   ]
  },
  {
   "cell_type": "code",
   "execution_count": 13,
   "metadata": {},
   "outputs": [],
   "source": [
    "import re\n",
    "\n",
    "def remove_txt_part(x):\n",
    "    if isinstance(x, str):  # Check if x is a string\n",
    "        match = re.search(r'Pallet\\/s$', x)  # Regular expression for unit\n",
    "        if match:\n",
    "            x = re.sub(r'Pallet\\/s$', '', x)\n",
    "    return int(x)  # Convert to int (handle potential errors)"
   ]
  },
  {
   "cell_type": "code",
   "execution_count": 14,
   "metadata": {},
   "outputs": [],
   "source": [
    "df['Sales Volumn (pallet/s)'] = df['Sales Volumn (pallet/s)'].apply(remove_txt_part)"
   ]
  },
  {
   "cell_type": "code",
   "execution_count": 16,
   "metadata": {},
   "outputs": [
    {
     "data": {
      "text/plain": [
       "1     117\n",
       "6      80\n",
       "5      73\n",
       "7      63\n",
       "10     55\n",
       "3      54\n",
       "4      53\n",
       "8      53\n",
       "9      41\n",
       "2      37\n",
       "11     14\n",
       "12     11\n",
       "Name: Sales Volumn (pallet/s), dtype: int64"
      ]
     },
     "execution_count": 16,
     "metadata": {},
     "output_type": "execute_result"
    }
   ],
   "source": [
    "df['Sales Volumn (pallet/s)'].value_counts()"
   ]
  },
  {
   "cell_type": "code",
   "execution_count": 17,
   "metadata": {},
   "outputs": [
    {
     "data": {
      "text/plain": [
       "Summer    422\n",
       "Winter    200\n",
       "summer     21\n",
       "winter      8\n",
       "Name: Season, dtype: Int64"
      ]
     },
     "execution_count": 17,
     "metadata": {},
     "output_type": "execute_result"
    }
   ],
   "source": [
    "# Check the value count of the Season column\n",
    "\n",
    "df['Season'].value_counts()"
   ]
  },
  {
   "cell_type": "code",
   "execution_count": 21,
   "metadata": {},
   "outputs": [
    {
     "data": {
      "text/plain": [
       "Summer    443\n",
       "Winter    208\n",
       "Name: Season, dtype: Int64"
      ]
     },
     "execution_count": 21,
     "metadata": {},
     "output_type": "execute_result"
    }
   ],
   "source": [
    "# Capitalize all the values\n",
    "\n",
    "df['Season'] = df['Season'].str.capitalize()\n",
    "df['Season'].value_counts()\n"
   ]
  },
  {
   "cell_type": "code",
   "execution_count": 19,
   "metadata": {},
   "outputs": [
    {
     "data": {
      "text/plain": [
       "Order Date                 datetime64[ns]\n",
       "Customer ID                        string\n",
       "Sales Volumn (pallet/s)             int64\n",
       "Pricing Tier                       string\n",
       "Region                             string\n",
       "Season                             string\n",
       "Promotion Applied                  string\n",
       "Delivery Time (Days)              float64\n",
       "dtype: object"
      ]
     },
     "execution_count": 19,
     "metadata": {},
     "output_type": "execute_result"
    }
   ],
   "source": [
    "df.dtypes"
   ]
  },
  {
   "cell_type": "code",
   "execution_count": 22,
   "metadata": {},
   "outputs": [
    {
     "data": {
      "text/plain": [
       "Order Date                  0\n",
       "Customer ID                 0\n",
       "Sales Volumn (pallet/s)     0\n",
       "Pricing Tier                0\n",
       "Region                     24\n",
       "Season                      0\n",
       "Promotion Applied           0\n",
       "Delivery Time (Days)       29\n",
       "dtype: int64"
      ]
     },
     "execution_count": 22,
     "metadata": {},
     "output_type": "execute_result"
    }
   ],
   "source": [
    "#To count missing values in each column\n",
    "df.isnull().sum()"
   ]
  },
  {
   "cell_type": "code",
   "execution_count": 23,
   "metadata": {},
   "outputs": [
    {
     "data": {
      "image/png": "[encoded data removed]",
      "text/plain": [
       "<Figure size 432x288 with 1 Axes>"
      ]
     },
     "metadata": {
      "needs_background": "light"
     },
     "output_type": "display_data"
    }
   ],
   "source": [
    "# Check the outlier to fill the missing values\n",
    "\n",
    "import seaborn as sns\n",
    "import matplotlib.pyplot as plt\n",
    "\n",
    "plt.figure(figsize=(6, 4))\n",
    "sns.boxplot(data=df['Sales Volumn (pallet/s)'])\n",
    "plt.title('Box Plot')\n",
    "plt.show()"
   ]
  },
  {
   "cell_type": "code",
   "execution_count": 32,
   "metadata": {},
   "outputs": [
    {
     "data": {
      "text/plain": [
       "Series([], Name: Delivery Time (Days), dtype: float64)"
      ]
     },
     "execution_count": 32,
     "metadata": {},
     "output_type": "execute_result"
    }
   ],
   "source": [
    "# Calculate Q1, Q3, and IQR\n",
    "Q1 = np.percentile(df['Delivery Time (Days)'], 25)\n",
    "Q3 = np.percentile(df['Delivery Time (Days)'], 75)\n",
    "IQR = Q3 - Q1\n",
    "\n",
    "# Calculate outlier bounds\n",
    "lower_bound = Q1 - 1.5 * IQR\n",
    "upper_bound = Q3 + 1.5 * IQR\n",
    "\n",
    "# Identify outliers\n",
    "outliers = df['Delivery Time (Days)'][(df['Delivery Time (Days)'] < lower_bound) | (df['Delivery Time (Days)'] > upper_bound)]\n",
    "outliers"
   ]
  },
  {
   "cell_type": "code",
   "execution_count": null,
   "metadata": {},
   "outputs": [
    {
     "data": {
      "text/plain": [
       "Order Date                  0\n",
       "Customer ID                 0\n",
       "Sales Volumn (pallet/s)     0\n",
       "Sales Revenue               0\n",
       "Pricing Tier                0\n",
       "Region                     24\n",
       "Season                      0\n",
       "Promotion Applied           0\n",
       "Delivery Time (Days)       29\n",
       "dtype: int64"
      ]
     },
     "execution_count": 155,
     "metadata": {},
     "output_type": "execute_result"
    }
   ],
   "source": [
    "#To count missing values in each column\n",
    "\n",
    "df.isnull().sum()"
   ]
  },
  {
   "cell_type": "code",
   "execution_count": 35,
   "metadata": {},
   "outputs": [
    {
     "data": {
      "image/png": "[encoded data removed]",
      "text/plain": [
       "<Figure size 432x288 with 1 Axes>"
      ]
     },
     "metadata": {
      "needs_background": "light"
     },
     "output_type": "display_data"
    },
    {
     "data": {
      "image/png": "[encoded data removed]",
      "text/plain": [
       "<Figure size 432x288 with 1 Axes>"
      ]
     },
     "metadata": {
      "needs_background": "light"
     },
     "output_type": "display_data"
    }
   ],
   "source": [
    "# Check the distribution of the column to fill the missing values\n",
    "\n",
    "plt.figure(figsize=(6, 4))\n",
    "plt.hist(df['Sales Volumn (pallet/s)'],edgecolor='black')\n",
    "plt.title('Histogram of Sales Volumn (pallet/s)')\n",
    "plt.xlabel('Sales Volumn (pallet/s)')\n",
    "plt.ylabel('Frequency')\n",
    "\n",
    "plt.figure(figsize=(6, 4))\n",
    "plt.hist(df['Delivery Time (Days)'],edgecolor='black')\n",
    "plt.title('Histogram of Delivery Time (Days)')\n",
    "plt.xlabel('Delivery Time (Days)')\n",
    "plt.ylabel('Frequency')\n",
    "\n",
    "plt.show()"
   ]
  },
  {
   "cell_type": "code",
   "execution_count": null,
   "metadata": {},
   "outputs": [
    {
     "name": "stdout",
     "output_type": "stream",
     "text": [
      "Skewness of Demand_Units: 0.6068726085628887\n"
     ]
    }
   ],
   "source": [
    "# Check the skewness of the Delivery Time column\n",
    "\n",
    "skewness = df['Delivery Time (Days)'].skew()\n",
    "print(f\"Skewness of Demand_Units: {skewness}\")"
   ]
  },
  {
   "cell_type": "markdown",
   "metadata": {},
   "source": [
    "The data is right skewed, you may need to scale it usig Robust scaling"
   ]
  },
  {
   "cell_type": "code",
   "execution_count": 36,
   "metadata": {},
   "outputs": [
    {
     "data": {
      "image/png": "[encoded data removed]",
      "text/plain": [
       "<Figure size 432x288 with 1 Axes>"
      ]
     },
     "metadata": {
      "needs_background": "light"
     },
     "output_type": "display_data"
    }
   ],
   "source": [
    "\n",
    "# Plot box plot\n",
    "sns.boxplot(data=df['Delivery Time (Days)'])\n",
    "plt.title(\"Box Plot for Outlier Detection\")\n",
    "plt.xlabel(\"Values\")\n",
    "plt.show()"
   ]
  },
  {
   "cell_type": "code",
   "execution_count": 37,
   "metadata": {},
   "outputs": [],
   "source": [
    "# Fill the missig vlues by mean, median and mode\n",
    "\n",
    "# df['Sales Volumn (pallet/s)'] = df['Sales Volumn (pallet/s)'].fillna(df['Sales Volumn (pallet/s)'].mean())\n",
    "df['Region'] = df['Region'].fillna(df['Region'].mode()[0]) \n",
    "df['Delivery Time (Days)'] = df['Delivery Time (Days)'].fillna(df['Delivery Time (Days)'].median())\n"
   ]
  },
  {
   "cell_type": "code",
   "execution_count": 38,
   "metadata": {},
   "outputs": [
    {
     "data": {
      "text/plain": [
       "Order Date                 0\n",
       "Customer ID                0\n",
       "Sales Volumn (pallet/s)    0\n",
       "Pricing Tier               0\n",
       "Region                     0\n",
       "Season                     0\n",
       "Promotion Applied          0\n",
       "Delivery Time (Days)       0\n",
       "dtype: int64"
      ]
     },
     "execution_count": 38,
     "metadata": {},
     "output_type": "execute_result"
    }
   ],
   "source": [
    "# After filling the missing values\n",
    "\n",
    "df.isnull().sum()"
   ]
  },
  {
   "cell_type": "code",
   "execution_count": 40,
   "metadata": {},
   "outputs": [
    {
     "data": {
      "text/plain": [
       "False"
      ]
     },
     "execution_count": 40,
     "metadata": {},
     "output_type": "execute_result"
    }
   ],
   "source": [
    "# Checking the duplicate rows in data\n",
    "\n",
    "df.duplicated().any()\n"
   ]
  },
  {
   "cell_type": "code",
   "execution_count": 41,
   "metadata": {},
   "outputs": [],
   "source": [
    "# Remove Outlier\n",
    "\n",
    "Q1 = df['Delivery Time (Days)'].quantile(0.25)\n",
    "Q3 = df['Delivery Time (Days)'].quantile(0.75)\n",
    "\n",
    "IQR = Q3 - Q1\n",
    "\n",
    "lower_bound = Q1 - 1.5 * IQR\n",
    "upper_bound = Q3 + 1.5 * IQR\n",
    "\n",
    "new_df = df[(df['Delivery Time (Days)'] >= lower_bound) & (df['Delivery Time (Days)'] <= upper_bound)]\n",
    "\n"
   ]
  },
  {
   "cell_type": "code",
   "execution_count": 42,
   "metadata": {},
   "outputs": [
    {
     "data": {
      "text/html": [
       "<div>\n",
       "<style scoped>\n",
       "    .dataframe tbody tr th:only-of-type {\n",
       "        vertical-align: middle;\n",
       "    }\n",
       "\n",
       "    .dataframe tbody tr th {\n",
       "        vertical-align: top;\n",
       "    }\n",
       "\n",
       "    .dataframe thead th {\n",
       "        text-align: right;\n",
       "    }\n",
       "</style>\n",
       "<table border=\"1\" class=\"dataframe\">\n",
       "  <thead>\n",
       "    <tr style=\"text-align: right;\">\n",
       "      <th></th>\n",
       "      <th>Order Date</th>\n",
       "      <th>Customer ID</th>\n",
       "      <th>Sales Volumn (pallet/s)</th>\n",
       "      <th>Pricing Tier</th>\n",
       "      <th>Region</th>\n",
       "      <th>Season</th>\n",
       "      <th>Promotion Applied</th>\n",
       "      <th>Delivery Time (Days)</th>\n",
       "    </tr>\n",
       "  </thead>\n",
       "  <tbody>\n",
       "    <tr>\n",
       "      <th>0</th>\n",
       "      <td>2022-10-01</td>\n",
       "      <td>CUST002</td>\n",
       "      <td>1</td>\n",
       "      <td>Tier 3</td>\n",
       "      <td>North America</td>\n",
       "      <td>Summer</td>\n",
       "      <td>Yes</td>\n",
       "      <td>8.0</td>\n",
       "    </tr>\n",
       "    <tr>\n",
       "      <th>1</th>\n",
       "      <td>2022-10-01</td>\n",
       "      <td>CUST003</td>\n",
       "      <td>4</td>\n",
       "      <td>Tier 2</td>\n",
       "      <td>Europe</td>\n",
       "      <td>Summer</td>\n",
       "      <td>Yes</td>\n",
       "      <td>8.0</td>\n",
       "    </tr>\n",
       "    <tr>\n",
       "      <th>2</th>\n",
       "      <td>2022-10-01</td>\n",
       "      <td>CUST005</td>\n",
       "      <td>1</td>\n",
       "      <td>Tier 3</td>\n",
       "      <td>North America</td>\n",
       "      <td>Summer</td>\n",
       "      <td>No</td>\n",
       "      <td>6.0</td>\n",
       "    </tr>\n",
       "    <tr>\n",
       "      <th>3</th>\n",
       "      <td>2022-10-01</td>\n",
       "      <td>CUST006</td>\n",
       "      <td>1</td>\n",
       "      <td>Tier 3</td>\n",
       "      <td>Europe</td>\n",
       "      <td>Summer</td>\n",
       "      <td>No</td>\n",
       "      <td>9.0</td>\n",
       "    </tr>\n",
       "    <tr>\n",
       "      <th>4</th>\n",
       "      <td>2022-10-01</td>\n",
       "      <td>CUST008</td>\n",
       "      <td>7</td>\n",
       "      <td>Tier 1</td>\n",
       "      <td>North America</td>\n",
       "      <td>Summer</td>\n",
       "      <td>Yes</td>\n",
       "      <td>3.0</td>\n",
       "    </tr>\n",
       "    <tr>\n",
       "      <th>...</th>\n",
       "      <td>...</td>\n",
       "      <td>...</td>\n",
       "      <td>...</td>\n",
       "      <td>...</td>\n",
       "      <td>...</td>\n",
       "      <td>...</td>\n",
       "      <td>...</td>\n",
       "      <td>...</td>\n",
       "    </tr>\n",
       "    <tr>\n",
       "      <th>646</th>\n",
       "      <td>2024-09-28</td>\n",
       "      <td>CUST008</td>\n",
       "      <td>6</td>\n",
       "      <td>Tier 1</td>\n",
       "      <td>North America</td>\n",
       "      <td>Summer</td>\n",
       "      <td>No</td>\n",
       "      <td>5.0</td>\n",
       "    </tr>\n",
       "    <tr>\n",
       "      <th>647</th>\n",
       "      <td>2024-09-30</td>\n",
       "      <td>CUST001</td>\n",
       "      <td>10</td>\n",
       "      <td>Tier 1</td>\n",
       "      <td>Europe</td>\n",
       "      <td>Summer</td>\n",
       "      <td>Yes</td>\n",
       "      <td>4.0</td>\n",
       "    </tr>\n",
       "    <tr>\n",
       "      <th>648</th>\n",
       "      <td>2024-09-30</td>\n",
       "      <td>CUST004</td>\n",
       "      <td>7</td>\n",
       "      <td>Tier 1</td>\n",
       "      <td>Europe</td>\n",
       "      <td>Summer</td>\n",
       "      <td>Yes</td>\n",
       "      <td>5.0</td>\n",
       "    </tr>\n",
       "    <tr>\n",
       "      <th>649</th>\n",
       "      <td>2024-09-30</td>\n",
       "      <td>CUST007</td>\n",
       "      <td>2</td>\n",
       "      <td>Tier 2</td>\n",
       "      <td>South East Asia</td>\n",
       "      <td>Summer</td>\n",
       "      <td>Yes</td>\n",
       "      <td>8.0</td>\n",
       "    </tr>\n",
       "    <tr>\n",
       "      <th>650</th>\n",
       "      <td>2024-09-30</td>\n",
       "      <td>CUST010</td>\n",
       "      <td>1</td>\n",
       "      <td>Tier 3</td>\n",
       "      <td>North America</td>\n",
       "      <td>Summer</td>\n",
       "      <td>Yes</td>\n",
       "      <td>9.0</td>\n",
       "    </tr>\n",
       "  </tbody>\n",
       "</table>\n",
       "<p>648 rows × 8 columns</p>\n",
       "</div>"
      ],
      "text/plain": [
       "    Order Date Customer ID  Sales Volumn (pallet/s) Pricing Tier  \\\n",
       "0   2022-10-01     CUST002                        1       Tier 3   \n",
       "1   2022-10-01     CUST003                        4       Tier 2   \n",
       "2   2022-10-01     CUST005                        1       Tier 3   \n",
       "3   2022-10-01     CUST006                        1       Tier 3   \n",
       "4   2022-10-01     CUST008                        7       Tier 1   \n",
       "..         ...         ...                      ...          ...   \n",
       "646 2024-09-28     CUST008                        6       Tier 1   \n",
       "647 2024-09-30     CUST001                       10       Tier 1   \n",
       "648 2024-09-30     CUST004                        7       Tier 1   \n",
       "649 2024-09-30     CUST007                        2       Tier 2   \n",
       "650 2024-09-30     CUST010                        1       Tier 3   \n",
       "\n",
       "              Region  Season Promotion Applied  Delivery Time (Days)  \n",
       "0      North America  Summer               Yes                   8.0  \n",
       "1             Europe  Summer               Yes                   8.0  \n",
       "2      North America  Summer                No                   6.0  \n",
       "3             Europe  Summer                No                   9.0  \n",
       "4      North America  Summer               Yes                   3.0  \n",
       "..               ...     ...               ...                   ...  \n",
       "646    North America  Summer                No                   5.0  \n",
       "647           Europe  Summer               Yes                   4.0  \n",
       "648           Europe  Summer               Yes                   5.0  \n",
       "649  South East Asia  Summer               Yes                   8.0  \n",
       "650    North America  Summer               Yes                   9.0  \n",
       "\n",
       "[648 rows x 8 columns]"
      ]
     },
     "execution_count": 42,
     "metadata": {},
     "output_type": "execute_result"
    }
   ],
   "source": [
    "new_df"
   ]
  },
  {
   "cell_type": "code",
   "execution_count": null,
   "metadata": {},
   "outputs": [
    {
     "data": {
      "image/png": "[encoded data removed]",
      "text/plain": [
       "<Figure size 600x400 with 1 Axes>"
      ]
     },
     "metadata": {},
     "output_type": "display_data"
    }
   ],
   "source": [
    "# After removing outliers\n",
    "\n",
    "plt.figure(figsize=(6, 4))\n",
    "sns.boxplot(data=new_df['Delivery Time (Days)'])\n",
    "plt.title('Box Plot')\n",
    "plt.show()"
   ]
  },
  {
   "cell_type": "code",
   "execution_count": null,
   "metadata": {},
   "outputs": [
    {
     "data": {
      "image/png": "[encoded data removed]",
      "text/plain": [
       "<Figure size 640x480 with 1 Axes>"
      ]
     },
     "metadata": {},
     "output_type": "display_data"
    },
    {
     "data": {
      "image/png": "[encoded data removed]",
      "text/plain": [
       "<Figure size 640x480 with 1 Axes>"
      ]
     },
     "metadata": {},
     "output_type": "display_data"
    }
   ],
   "source": [
    "# Check the normality of data\n",
    "\n",
    "import matplotlib.pyplot as plt\n",
    "\n",
    "plt.hist(new_df['Delivery Time (Days)'], edgecolor='black')\n",
    "plt.title('Histogram of Delivery Time (Days)')\n",
    "plt.xlabel('Delivery Time (Days)')\n",
    "plt.ylabel('Frequency')\n",
    "plt.show()\n",
    "\n",
    "plt.hist(new_df['Sales Volumn (pallet/s)'], edgecolor='black')\n",
    "plt.title('Histogram of Sales Volumn (pallet/s)')\n",
    "plt.xlabel('Sales Volumn (pallet/s)')\n",
    "plt.ylabel('Frequency')\n",
    "plt.show()"
   ]
  },
  {
   "cell_type": "code",
   "execution_count": null,
   "metadata": {},
   "outputs": [
    {
     "data": {
      "text/html": [
       "<div>\n",
       "<style scoped>\n",
       "    .dataframe tbody tr th:only-of-type {\n",
       "        vertical-align: middle;\n",
       "    }\n",
       "\n",
       "    .dataframe tbody tr th {\n",
       "        vertical-align: top;\n",
       "    }\n",
       "\n",
       "    .dataframe thead th {\n",
       "        text-align: right;\n",
       "    }\n",
       "</style>\n",
       "<table border=\"1\" class=\"dataframe\">\n",
       "  <thead>\n",
       "    <tr style=\"text-align: right;\">\n",
       "      <th></th>\n",
       "      <th>Order Date</th>\n",
       "      <th>Customer ID</th>\n",
       "      <th>Sales Volumn (pallet/s)</th>\n",
       "      <th>Sales Revenue</th>\n",
       "      <th>Pricing Tier</th>\n",
       "      <th>Region</th>\n",
       "      <th>Season</th>\n",
       "      <th>Promotion Applied</th>\n",
       "      <th>Delivery Time (Days)</th>\n",
       "    </tr>\n",
       "  </thead>\n",
       "  <tbody>\n",
       "    <tr>\n",
       "      <th>0</th>\n",
       "      <td>2022-10-01</td>\n",
       "      <td>CUST002</td>\n",
       "      <td>1</td>\n",
       "      <td>1000</td>\n",
       "      <td>Tier 2</td>\n",
       "      <td>North America</td>\n",
       "      <td>Summer</td>\n",
       "      <td>Yes</td>\n",
       "      <td>8.0</td>\n",
       "    </tr>\n",
       "    <tr>\n",
       "      <th>1</th>\n",
       "      <td>2022-10-01</td>\n",
       "      <td>CUST003</td>\n",
       "      <td>4</td>\n",
       "      <td>4000</td>\n",
       "      <td>Tier 1</td>\n",
       "      <td>Europe</td>\n",
       "      <td>Summer</td>\n",
       "      <td>Yes</td>\n",
       "      <td>8.0</td>\n",
       "    </tr>\n",
       "    <tr>\n",
       "      <th>2</th>\n",
       "      <td>2022-10-01</td>\n",
       "      <td>CUST005</td>\n",
       "      <td>3</td>\n",
       "      <td>3000</td>\n",
       "      <td>Tier 1</td>\n",
       "      <td>North America</td>\n",
       "      <td>Summer</td>\n",
       "      <td>No</td>\n",
       "      <td>6.0</td>\n",
       "    </tr>\n",
       "    <tr>\n",
       "      <th>3</th>\n",
       "      <td>2022-10-01</td>\n",
       "      <td>CUST006</td>\n",
       "      <td>1</td>\n",
       "      <td>1000</td>\n",
       "      <td>Tier 2</td>\n",
       "      <td>Europe</td>\n",
       "      <td>Summer</td>\n",
       "      <td>No</td>\n",
       "      <td>9.0</td>\n",
       "    </tr>\n",
       "    <tr>\n",
       "      <th>4</th>\n",
       "      <td>2022-10-01</td>\n",
       "      <td>CUST008</td>\n",
       "      <td>5</td>\n",
       "      <td>5000</td>\n",
       "      <td>Tier 2</td>\n",
       "      <td>North America</td>\n",
       "      <td>Summer</td>\n",
       "      <td>Yes</td>\n",
       "      <td>3.0</td>\n",
       "    </tr>\n",
       "  </tbody>\n",
       "</table>\n",
       "</div>"
      ],
      "text/plain": [
       "  Order Date Customer ID  Sales Volumn (pallet/s)  Sales Revenue Pricing Tier  \\\n",
       "0 2022-10-01     CUST002                        1           1000       Tier 2   \n",
       "1 2022-10-01     CUST003                        4           4000       Tier 1   \n",
       "2 2022-10-01     CUST005                        3           3000       Tier 1   \n",
       "3 2022-10-01     CUST006                        1           1000       Tier 2   \n",
       "4 2022-10-01     CUST008                        5           5000       Tier 2   \n",
       "\n",
       "          Region  Season Promotion Applied  Delivery Time (Days)  \n",
       "0  North America  Summer               Yes                   8.0  \n",
       "1         Europe  Summer               Yes                   8.0  \n",
       "2  North America  Summer                No                   6.0  \n",
       "3         Europe  Summer                No                   9.0  \n",
       "4  North America  Summer               Yes                   3.0  "
      ]
     },
     "execution_count": 165,
     "metadata": {},
     "output_type": "execute_result"
    }
   ],
   "source": [
    "new_df.head()"
   ]
  },
  {
   "cell_type": "markdown",
   "metadata": {},
   "source": [
    "Bivariate analysis"
   ]
  },
  {
   "cell_type": "code",
   "execution_count": 44,
   "metadata": {},
   "outputs": [
    {
     "data": {
      "text/plain": [
       "18"
      ]
     },
     "execution_count": 44,
     "metadata": {},
     "output_type": "execute_result"
    }
   ],
   "source": [
    "df['Delivery Time (Days)'].nunique()"
   ]
  },
  {
   "cell_type": "code",
   "execution_count": 47,
   "metadata": {},
   "outputs": [
    {
     "data": {
      "text/plain": [
       "<AxesSubplot:xlabel='Delivery Time (Days)'>"
      ]
     },
     "execution_count": 47,
     "metadata": {},
     "output_type": "execute_result"
    },
    {
     "data": {
      "image/png": "[encoded data removed]",
      "text/plain": [
       "<Figure size 432x288 with 1 Axes>"
      ]
     },
     "metadata": {
      "needs_background": "light"
     },
     "output_type": "display_data"
    }
   ],
   "source": [
    "sns.pointplot(data=new_df,x='Delivery Time (Days)',hue='Region')"
   ]
  },
  {
   "cell_type": "code",
   "execution_count": 48,
   "metadata": {},
   "outputs": [
    {
     "data": {
      "text/plain": [
       "<AxesSubplot:xlabel='Delivery Time (Days)'>"
      ]
     },
     "execution_count": 48,
     "metadata": {},
     "output_type": "execute_result"
    },
    {
     "data": {
      "image/png": "[encoded data removed]",
      "text/plain": [
       "<Figure size 432x288 with 1 Axes>"
      ]
     },
     "metadata": {
      "needs_background": "light"
     },
     "output_type": "display_data"
    }
   ],
   "source": [
    "sns.violinplot(data=df,x='Delivery Time (Days)',hue='Region')"
   ]
  },
  {
   "cell_type": "markdown",
   "metadata": {},
   "source": [
    "North America and South East Asia have wider distributions, indicating higher variability in the data.<br>\n",
    "Europe has a narrower distribution, suggesting that values are more consistent and closer to each other."
   ]
  },
  {
   "cell_type": "code",
   "execution_count": 51,
   "metadata": {},
   "outputs": [
    {
     "data": {
      "text/plain": [
       "<seaborn.axisgrid.PairGrid at 0x1c640091fa0>"
      ]
     },
     "execution_count": 51,
     "metadata": {},
     "output_type": "execute_result"
    },
    {
     "data": {
      "image/png": "[encoded data removed]",
      "text/plain": [
       "<Figure size 360x360 with 6 Axes>"
      ]
     },
     "metadata": {
      "needs_background": "light"
     },
     "output_type": "display_data"
    }
   ],
   "source": [
    "sns.pairplot(data=df)"
   ]
  },
  {
   "cell_type": "code",
   "execution_count": 58,
   "metadata": {},
   "outputs": [
    {
     "data": {
      "text/plain": [
       "<AxesSubplot:xlabel='Delivery Time (Days)', ylabel='Sales Volumn (pallet/s)'>"
      ]
     },
     "execution_count": 58,
     "metadata": {},
     "output_type": "execute_result"
    },
    {
     "data": {
      "image/png": "[encoded data removed]",
      "text/plain": [
       "<Figure size 432x288 with 1 Axes>"
      ]
     },
     "metadata": {
      "needs_background": "light"
     },
     "output_type": "display_data"
    }
   ],
   "source": [
    "sns.scatterplot(data=new_df,x='Delivery Time (Days)',y='Sales Volumn (pallet/s)',hue='Season')"
   ]
  },
  {
   "cell_type": "markdown",
   "metadata": {},
   "source": [
    "Conclusion: Here we can see that, IN winter season increase in delivery time shows decrease in Sales order Volumn"
   ]
  },
  {
   "cell_type": "code",
   "execution_count": 59,
   "metadata": {},
   "outputs": [
    {
     "data": {
      "text/plain": [
       "<AxesSubplot:xlabel='Delivery Time (Days)', ylabel='Sales Volumn (pallet/s)'>"
      ]
     },
     "execution_count": 59,
     "metadata": {},
     "output_type": "execute_result"
    },
    {
     "data": {
      "image/png": "[encoded data removed]",
      "text/plain": [
       "<Figure size 432x288 with 1 Axes>"
      ]
     },
     "metadata": {
      "needs_background": "light"
     },
     "output_type": "display_data"
    }
   ],
   "source": [
    "sns.scatterplot(data=new_df,x='Delivery Time (Days)',y='Sales Volumn (pallet/s)',hue='Region')"
   ]
  },
  {
   "cell_type": "markdown",
   "metadata": {},
   "source": [
    "Conclusion: From above graph, we can say that there is no strong correlation between Sales Volumn and Regionwise delivery time"
   ]
  },
  {
   "cell_type": "code",
   "execution_count": 75,
   "metadata": {},
   "outputs": [
    {
     "data": {
      "text/plain": [
       "Text(0.5, 0, 'Month')"
      ]
     },
     "execution_count": 75,
     "metadata": {},
     "output_type": "execute_result"
    },
    {
     "data": {
      "image/png": "[encoded data removed]",
      "text/plain": [
       "<Figure size 432x288 with 1 Axes>"
      ]
     },
     "metadata": {
      "needs_background": "light"
     },
     "output_type": "display_data"
    }
   ],
   "source": [
    "sns.lineplot(data=new_df,x=new_df['Order Date'].dt.month,y='Sales Volumn (pallet/s)')\n",
    "plt.xlabel('Month')"
   ]
  },
  {
   "cell_type": "markdown",
   "metadata": {},
   "source": [
    "Sales volumn is at low scale between March to Octomber"
   ]
  },
  {
   "cell_type": "code",
   "execution_count": 86,
   "metadata": {},
   "outputs": [
    {
     "data": {
      "text/plain": [
       "Season\n",
       "Summer    1965\n",
       "Winter    1508\n",
       "Name: Sales Volumn (pallet/s), dtype: int64"
      ]
     },
     "execution_count": 86,
     "metadata": {},
     "output_type": "execute_result"
    }
   ],
   "source": [
    "new_df.groupby(by='Season')['Sales Volumn (pallet/s)'].sum()"
   ]
  },
  {
   "cell_type": "code",
   "execution_count": null,
   "metadata": {},
   "outputs": [
    {
     "data": {
      "text/plain": [
       "<AxesSubplot:xlabel='Season', ylabel='count'>"
      ]
     },
     "execution_count": 91,
     "metadata": {},
     "output_type": "execute_result"
    },
    {
     "data": {
      "image/png": "[encoded data removed]",
      "text/plain": [
       "<Figure size 432x288 with 1 Axes>"
      ]
     },
     "metadata": {
      "needs_background": "light"
     },
     "output_type": "display_data"
    }
   ],
   "source": [
    "sns.countplot(data=new_df,x='Season')"
   ]
  },
  {
   "cell_type": "markdown",
   "metadata": {},
   "source": [
    "Conclusion: Most of the Orders are belongs to Summer Season"
   ]
  }
 ],
 "metadata": {
  "kernelspec": {
   "display_name": "base",
   "language": "python",
   "name": "python3"
  },
  "language_info": {
   "codemirror_mode": {
    "name": "ipython",
    "version": 3
   },
   "file_extension": ".py",
   "mimetype": "text/x-python",
   "name": "python",
   "nbconvert_exporter": "python",
   "pygments_lexer": "ipython3",
   "version": "3.9.12"
  }
 },
 "nbformat": 4,
 "nbformat_minor": 2
}
